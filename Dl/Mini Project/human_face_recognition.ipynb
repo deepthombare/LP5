{
 "cells": [
  {
   "cell_type": "code",
   "execution_count": null,
   "id": "006bcef6",
   "metadata": {},
   "outputs": [],
   "source": [
    "import cv2\n",
    "import os\n",
    "import pickle\n",
    "import numpy as np\n",
    "from PIL import Image\n",
    "\n",
    "import matplotlib.pyplot as plt\n",
    "\n",
    "headshots_folder_name = 'Headshots'\n",
    "\n",
    "# dimension of images\n",
    "image_width = 224\n",
    "image_height = 224\n",
    "\n",
    "# for detecting faces\n",
    "facecascade = cv2.CascadeClassifier('haarcascade_frontalface_default.xml')\n",
    "\n",
    "# set the directory containing the images\n",
    "images_dir = os.path.join(\".\", headshots_folder_name)\n",
    "\n",
    "current_id = 0\n",
    "label_ids = {}\n",
    "\n",
    "# iterates through all the files in each subdirectories\n",
    "for root, _, files in os.walk(images_dir):\n",
    "    for file in files:\n",
    "        if file.endswith(\"png\") or\n",
    "        file.endswith(\"jpg\") or\n",
    "        file.endswith(\"jpeg\"):\n",
    "        # path of the image\n",
    "        path = os.path.join(root, file)\n",
    "\n",
    "        # get the label name (name of the person)\n",
    "        label = os.path.basename(root).replace(\" \", \".\").lower()\n",
    "\n",
    "        # add the label (key) and its number (value)\n",
    "        if not label in label_ids:\n",
    "            label_ids[label] = current_id\n",
    "            current_id += 1\n",
    "\n",
    "        # load the image\n",
    "        imgtest = cv2.imread(path, cv2.IMREAD_COLOR)\n",
    "        image_array = np.array(imgtest, \"uint8\")\n",
    "\n",
    "        # get the faces detected in the image\n",
    "        faces = \\ facecascade.detectMultiScale(imgtest,\n",
    "            scaleFactor=1.1, minNeighbors=5)\n",
    "\n",
    "        # if not exactly 1 face is detected, skip this photo\n",
    "        if len(faces) != 1:\n",
    "            print(f'---Photo skipped---\\n')\n",
    "        # remove the original image\n",
    "        os.remove(path)\n",
    "        continue\n",
    "\n",
    "        # save the detected face(s) and associate\n",
    "        # them with the label\n",
    "        for (x_, y_, w, h) in faces:\n",
    "\n",
    "            # draw the face detected\n",
    "            face_detect = cv2.rectangle(imgtest,\n",
    "                    (x_, y_),\n",
    "                    (x_+w, y_+h),\n",
    "                    (255, 0, 255), 2)\n",
    "            plt.imshow(face_detect)\n",
    "            plt.show()\n",
    "\n",
    "            # resize the detected face to 224x224\n",
    "            size = (image_width, image_height)\n",
    "\n",
    "            # detected face region\n",
    "            roi = image_array[y_: y_ + h, x_: x_ + w]\n",
    "\n",
    "            # resize the detected head to target size\n",
    "            resized_image = cv2.resize(roi, size)\n",
    "            image_array = np.array(resized_image, \"uint8\")\n",
    "\n",
    "            # remove the original image\n",
    "            os.remove(path)\n",
    "\n",
    "            # replace the image with only the face\n",
    "            im = Image.fromarray(image_array)\n",
    "            im.save(path)\n"
   ]
  },
  {
   "cell_type": "code",
   "execution_count": null,
   "id": "a8bf89d2",
   "metadata": {},
   "outputs": [],
   "source": [
    "import os\n",
    "import pandas as pd\n",
    "import numpy as np\n",
    "import tensorflow.keras as keras\n",
    "import matplotlib.pyplot as plt\n",
    "\n",
    "from tensorflow.keras.layers\n",
    "    import Dense, GlobalAveragePooling2D\n",
    "\n",
    "from tensorflow.keras.preprocessing import image\n",
    "from tensorflow.keras.applications.mobilenet\n",
    "    import preprocess_input\n",
    "\n",
    "from tensorflow.keras.preprocessing.image\n",
    "   import ImageDataGenerator\n",
    "\n",
    "from tensorflow.keras.models import Model\n",
    "\n",
    "from tensorflow.keras.optimizers import Adam\n"
   ]
  },
  {
   "cell_type": "code",
   "execution_count": null,
   "id": "4688f7dd",
   "metadata": {},
   "outputs": [],
   "source": [
    "train_datagen = ImageDataGenerator(\n",
    "    preprocessing_function=preprocess_input)\n",
    "\n",
    "train_generator = \\\n",
    "    train_datagen.flow_from_directory(\n",
    "'./Headshots',\n",
    "target_size=(224,224),\n",
    "color_mode='rgb',\n",
    "batch_size=32,\n",
    "class_mode='categorical',\n",
    "shuffle=True)\n"
   ]
  },
  {
   "cell_type": "code",
   "execution_count": null,
   "id": "4260bd8f",
   "metadata": {},
   "outputs": [],
   "source": [
    "train_generator.class_indices.values()\n",
    "# dict_values([0, 1, 2])\n",
    "NO_CLASSES = \\len(train_generator.class_indices.values())\n"
   ]
  },
  {
   "cell_type": "code",
   "execution_count": null,
   "id": "2a76b8ce",
   "metadata": {},
   "outputs": [],
   "source": [
    "from keras_vggface.vggface import VGGFace\n",
    "\n",
    "base_model = VGGFace(include_top=True,\n",
    "    model='vgg16',\n",
    "    input_shape=(224, 224, 3))\n",
    "base_model.summary()\n",
    "\n",
    "print(len(base_model.layers))\n",
    "# 26 layers in the original VGG-Face\n"
   ]
  },
  {
   "cell_type": "code",
   "execution_count": null,
   "id": "33f6ea65",
   "metadata": {},
   "outputs": [],
   "source": [
    "base_model = VGGFace(include_top=False,\n",
    "model='vgg16',\n",
    "input_shape=(224, 224, 3))\n",
    "base_model.summary()\n",
    "print(len(base_model.layers))\n",
    "# 19 layers after excluding the last few layers\n"
   ]
  },
  {
   "cell_type": "code",
   "execution_count": null,
   "id": "2c6a16a2",
   "metadata": {},
   "outputs": [],
   "source": [
    "x = base_model.output\n",
    "x = GlobalAveragePooling2D()(x)\n",
    "\n",
    "x = Dense(1024, activation='relu')(x)\n",
    "x = Dense(1024, activation='relu')(x)\n",
    "x = Dense(512, activation='relu')(x)\n",
    "\n",
    "# final layer with softmax activation\n",
    "preds = Dense(NO_CLASSES, activation='softmax')(x)\n"
   ]
  },
  {
   "cell_type": "code",
   "execution_count": null,
   "id": "07e13bc7",
   "metadata": {},
   "outputs": [],
   "source": [
    "# create a new model with the base model's original input and the \n",
    "# new model's output\n",
    "model = Model(inputs = base_model.input, outputs = preds)\n",
    "model.summary()\n",
    "\n",
    "# don't train the first 19 layers - 0..18\n",
    "for layer in model.layers[:19]:\n",
    "    layer.trainable = False\n",
    "\n",
    "# train the rest of the layers - 19 onwards\n",
    "for layer in model.layers[19:]:\n",
    "    layer.trainable = True\n"
   ]
  },
  {
   "cell_type": "code",
   "execution_count": null,
   "id": "87697a5f",
   "metadata": {},
   "outputs": [],
   "source": [
    "model.compile(optimizer='Adam',\n",
    "    loss='categorical_crossentropy',\n",
    "    metrics=['accuracy'])\n"
   ]
  },
  {
   "cell_type": "code",
   "execution_count": null,
   "id": "98650d5b",
   "metadata": {},
   "outputs": [],
   "source": [
    "model.fit(train_generator,\n",
    "  batch_size = 1,\n",
    "  verbose = 1,\n",
    "  epochs = 20)\n"
   ]
  },
  {
   "cell_type": "code",
   "execution_count": null,
   "id": "f8ddb132",
   "metadata": {},
   "outputs": [],
   "source": [
    "# creates a HDF5 file\n",
    "model.save(\n",
    "    'transfer_learning_trained' +\n",
    "    '_face_cnn_model.h5')\n"
   ]
  }
 ],
 "metadata": {
  "kernelspec": {
   "display_name": "Python 3",
   "language": "python",
   "name": "python3"
  },
  "language_info": {
   "codemirror_mode": {
    "name": "ipython",
    "version": 3
   },
   "file_extension": ".py",
   "mimetype": "text/x-python",
   "name": "python",
   "nbconvert_exporter": "python",
   "pygments_lexer": "ipython3",
   "version": "3.8.8"
  }
 },
 "nbformat": 4,
 "nbformat_minor": 5
}
