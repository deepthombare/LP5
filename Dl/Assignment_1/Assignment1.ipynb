{
 "cells": [
  {
   "cell_type": "code",
   "execution_count": 1,
   "id": "36e90601",
   "metadata": {},
   "outputs": [],
   "source": [
    "import pandas as pd\n",
    "import matplotlib.pyplot as plt"
   ]
  },
  {
   "cell_type": "markdown",
   "id": "09c0d469",
   "metadata": {},
   "source": [
    "### Load Dataset"
   ]
  },
  {
   "cell_type": "code",
   "execution_count": 2,
   "id": "64638d93",
   "metadata": {},
   "outputs": [
    {
     "data": {
      "text/html": [
       "<div>\n",
       "<style scoped>\n",
       "    .dataframe tbody tr th:only-of-type {\n",
       "        vertical-align: middle;\n",
       "    }\n",
       "\n",
       "    .dataframe tbody tr th {\n",
       "        vertical-align: top;\n",
       "    }\n",
       "\n",
       "    .dataframe thead th {\n",
       "        text-align: right;\n",
       "    }\n",
       "</style>\n",
       "<table border=\"1\" class=\"dataframe\">\n",
       "  <thead>\n",
       "    <tr style=\"text-align: right;\">\n",
       "      <th></th>\n",
       "      <th>CRIM</th>\n",
       "      <th>ZN</th>\n",
       "      <th>INDUS</th>\n",
       "      <th>CHAS</th>\n",
       "      <th>NOX</th>\n",
       "      <th>RM</th>\n",
       "      <th>AGE</th>\n",
       "      <th>DIS</th>\n",
       "      <th>RAD</th>\n",
       "      <th>TAX</th>\n",
       "      <th>PTRATIO</th>\n",
       "      <th>B</th>\n",
       "      <th>LSTAT</th>\n",
       "      <th>MEDV</th>\n",
       "      <th>CAT. MEDV</th>\n",
       "      <th>Unnamed: 15</th>\n",
       "      <th>Unnamed: 16</th>\n",
       "    </tr>\n",
       "  </thead>\n",
       "  <tbody>\n",
       "    <tr>\n",
       "      <th>0</th>\n",
       "      <td>0.00632</td>\n",
       "      <td>18.0</td>\n",
       "      <td>2.31</td>\n",
       "      <td>0</td>\n",
       "      <td>0.538</td>\n",
       "      <td>6.575</td>\n",
       "      <td>65.2</td>\n",
       "      <td>4.0900</td>\n",
       "      <td>1</td>\n",
       "      <td>296</td>\n",
       "      <td>15.3</td>\n",
       "      <td>396.90</td>\n",
       "      <td>4.98</td>\n",
       "      <td>24.0</td>\n",
       "      <td>0</td>\n",
       "      <td>NaN</td>\n",
       "      <td>NaN</td>\n",
       "    </tr>\n",
       "    <tr>\n",
       "      <th>1</th>\n",
       "      <td>0.02731</td>\n",
       "      <td>0.0</td>\n",
       "      <td>7.07</td>\n",
       "      <td>0</td>\n",
       "      <td>0.469</td>\n",
       "      <td>6.421</td>\n",
       "      <td>78.9</td>\n",
       "      <td>4.9671</td>\n",
       "      <td>2</td>\n",
       "      <td>242</td>\n",
       "      <td>17.8</td>\n",
       "      <td>396.90</td>\n",
       "      <td>9.14</td>\n",
       "      <td>21.6</td>\n",
       "      <td>0</td>\n",
       "      <td>NaN</td>\n",
       "      <td>NaN</td>\n",
       "    </tr>\n",
       "    <tr>\n",
       "      <th>2</th>\n",
       "      <td>0.02729</td>\n",
       "      <td>0.0</td>\n",
       "      <td>7.07</td>\n",
       "      <td>0</td>\n",
       "      <td>0.469</td>\n",
       "      <td>7.185</td>\n",
       "      <td>61.1</td>\n",
       "      <td>4.9671</td>\n",
       "      <td>2</td>\n",
       "      <td>242</td>\n",
       "      <td>17.8</td>\n",
       "      <td>392.83</td>\n",
       "      <td>4.03</td>\n",
       "      <td>34.7</td>\n",
       "      <td>1</td>\n",
       "      <td>NaN</td>\n",
       "      <td>NaN</td>\n",
       "    </tr>\n",
       "    <tr>\n",
       "      <th>3</th>\n",
       "      <td>0.03237</td>\n",
       "      <td>0.0</td>\n",
       "      <td>2.18</td>\n",
       "      <td>0</td>\n",
       "      <td>0.458</td>\n",
       "      <td>6.998</td>\n",
       "      <td>45.8</td>\n",
       "      <td>6.0622</td>\n",
       "      <td>3</td>\n",
       "      <td>222</td>\n",
       "      <td>18.7</td>\n",
       "      <td>394.63</td>\n",
       "      <td>2.94</td>\n",
       "      <td>33.4</td>\n",
       "      <td>1</td>\n",
       "      <td>NaN</td>\n",
       "      <td>NaN</td>\n",
       "    </tr>\n",
       "    <tr>\n",
       "      <th>4</th>\n",
       "      <td>0.06905</td>\n",
       "      <td>0.0</td>\n",
       "      <td>2.18</td>\n",
       "      <td>0</td>\n",
       "      <td>0.458</td>\n",
       "      <td>7.147</td>\n",
       "      <td>54.2</td>\n",
       "      <td>6.0622</td>\n",
       "      <td>3</td>\n",
       "      <td>222</td>\n",
       "      <td>18.7</td>\n",
       "      <td>396.90</td>\n",
       "      <td>5.33</td>\n",
       "      <td>36.2</td>\n",
       "      <td>1</td>\n",
       "      <td>NaN</td>\n",
       "      <td>NaN</td>\n",
       "    </tr>\n",
       "    <tr>\n",
       "      <th>5</th>\n",
       "      <td>0.02985</td>\n",
       "      <td>0.0</td>\n",
       "      <td>2.18</td>\n",
       "      <td>0</td>\n",
       "      <td>0.458</td>\n",
       "      <td>6.430</td>\n",
       "      <td>58.7</td>\n",
       "      <td>6.0622</td>\n",
       "      <td>3</td>\n",
       "      <td>222</td>\n",
       "      <td>18.7</td>\n",
       "      <td>394.12</td>\n",
       "      <td>5.21</td>\n",
       "      <td>28.7</td>\n",
       "      <td>0</td>\n",
       "      <td>NaN</td>\n",
       "      <td>NaN</td>\n",
       "    </tr>\n",
       "    <tr>\n",
       "      <th>6</th>\n",
       "      <td>0.08829</td>\n",
       "      <td>12.5</td>\n",
       "      <td>7.87</td>\n",
       "      <td>0</td>\n",
       "      <td>0.524</td>\n",
       "      <td>6.012</td>\n",
       "      <td>66.6</td>\n",
       "      <td>5.5605</td>\n",
       "      <td>5</td>\n",
       "      <td>311</td>\n",
       "      <td>15.2</td>\n",
       "      <td>395.60</td>\n",
       "      <td>12.43</td>\n",
       "      <td>22.9</td>\n",
       "      <td>0</td>\n",
       "      <td>NaN</td>\n",
       "      <td>NaN</td>\n",
       "    </tr>\n",
       "    <tr>\n",
       "      <th>7</th>\n",
       "      <td>0.14455</td>\n",
       "      <td>12.5</td>\n",
       "      <td>7.87</td>\n",
       "      <td>0</td>\n",
       "      <td>0.524</td>\n",
       "      <td>6.172</td>\n",
       "      <td>96.1</td>\n",
       "      <td>5.9505</td>\n",
       "      <td>5</td>\n",
       "      <td>311</td>\n",
       "      <td>15.2</td>\n",
       "      <td>396.90</td>\n",
       "      <td>19.15</td>\n",
       "      <td>27.1</td>\n",
       "      <td>0</td>\n",
       "      <td>NaN</td>\n",
       "      <td>NaN</td>\n",
       "    </tr>\n",
       "    <tr>\n",
       "      <th>8</th>\n",
       "      <td>0.21124</td>\n",
       "      <td>12.5</td>\n",
       "      <td>7.87</td>\n",
       "      <td>0</td>\n",
       "      <td>0.524</td>\n",
       "      <td>5.631</td>\n",
       "      <td>100.0</td>\n",
       "      <td>6.0821</td>\n",
       "      <td>5</td>\n",
       "      <td>311</td>\n",
       "      <td>15.2</td>\n",
       "      <td>386.63</td>\n",
       "      <td>29.93</td>\n",
       "      <td>16.5</td>\n",
       "      <td>0</td>\n",
       "      <td>NaN</td>\n",
       "      <td>NaN</td>\n",
       "    </tr>\n",
       "    <tr>\n",
       "      <th>9</th>\n",
       "      <td>0.17004</td>\n",
       "      <td>12.5</td>\n",
       "      <td>7.87</td>\n",
       "      <td>0</td>\n",
       "      <td>0.524</td>\n",
       "      <td>6.004</td>\n",
       "      <td>85.9</td>\n",
       "      <td>6.5921</td>\n",
       "      <td>5</td>\n",
       "      <td>311</td>\n",
       "      <td>15.2</td>\n",
       "      <td>386.71</td>\n",
       "      <td>17.10</td>\n",
       "      <td>18.9</td>\n",
       "      <td>0</td>\n",
       "      <td>NaN</td>\n",
       "      <td>NaN</td>\n",
       "    </tr>\n",
       "  </tbody>\n",
       "</table>\n",
       "</div>"
      ],
      "text/plain": [
       "      CRIM    ZN  INDUS  CHAS    NOX     RM    AGE     DIS  RAD  TAX  PTRATIO  \\\n",
       "0  0.00632  18.0   2.31     0  0.538  6.575   65.2  4.0900    1  296     15.3   \n",
       "1  0.02731   0.0   7.07     0  0.469  6.421   78.9  4.9671    2  242     17.8   \n",
       "2  0.02729   0.0   7.07     0  0.469  7.185   61.1  4.9671    2  242     17.8   \n",
       "3  0.03237   0.0   2.18     0  0.458  6.998   45.8  6.0622    3  222     18.7   \n",
       "4  0.06905   0.0   2.18     0  0.458  7.147   54.2  6.0622    3  222     18.7   \n",
       "5  0.02985   0.0   2.18     0  0.458  6.430   58.7  6.0622    3  222     18.7   \n",
       "6  0.08829  12.5   7.87     0  0.524  6.012   66.6  5.5605    5  311     15.2   \n",
       "7  0.14455  12.5   7.87     0  0.524  6.172   96.1  5.9505    5  311     15.2   \n",
       "8  0.21124  12.5   7.87     0  0.524  5.631  100.0  6.0821    5  311     15.2   \n",
       "9  0.17004  12.5   7.87     0  0.524  6.004   85.9  6.5921    5  311     15.2   \n",
       "\n",
       "        B  LSTAT  MEDV  CAT. MEDV  Unnamed: 15  Unnamed: 16  \n",
       "0  396.90   4.98  24.0          0          NaN          NaN  \n",
       "1  396.90   9.14  21.6          0          NaN          NaN  \n",
       "2  392.83   4.03  34.7          1          NaN          NaN  \n",
       "3  394.63   2.94  33.4          1          NaN          NaN  \n",
       "4  396.90   5.33  36.2          1          NaN          NaN  \n",
       "5  394.12   5.21  28.7          0          NaN          NaN  \n",
       "6  395.60  12.43  22.9          0          NaN          NaN  \n",
       "7  396.90  19.15  27.1          0          NaN          NaN  \n",
       "8  386.63  29.93  16.5          0          NaN          NaN  \n",
       "9  386.71  17.10  18.9          0          NaN          NaN  "
      ]
     },
     "execution_count": 2,
     "metadata": {},
     "output_type": "execute_result"
    }
   ],
   "source": [
    "df = pd.read_csv('Boston.csv')\n",
    "df.head(10)"
   ]
  },
  {
   "cell_type": "code",
   "execution_count": 3,
   "id": "55426a1b",
   "metadata": {},
   "outputs": [],
   "source": [
    "df.drop(columns=['Unnamed: 15','Unnamed: 16'],inplace=True)"
   ]
  },
  {
   "cell_type": "code",
   "execution_count": 4,
   "id": "dade5278",
   "metadata": {},
   "outputs": [],
   "source": [
    "df.drop(columns=['CAT. MEDV'],inplace=True)"
   ]
  },
  {
   "cell_type": "markdown",
   "id": "17d566fe",
   "metadata": {},
   "source": [
    "#### Checking for null values"
   ]
  },
  {
   "cell_type": "code",
   "execution_count": 5,
   "id": "e4792737",
   "metadata": {},
   "outputs": [
    {
     "data": {
      "text/plain": [
       "CRIM       0\n",
       "ZN         0\n",
       "INDUS      0\n",
       "CHAS       0\n",
       "NOX        0\n",
       "RM         0\n",
       "AGE        0\n",
       "DIS        0\n",
       "RAD        0\n",
       "TAX        0\n",
       "PTRATIO    0\n",
       "B          0\n",
       "LSTAT      0\n",
       "MEDV       0\n",
       "dtype: int64"
      ]
     },
     "execution_count": 5,
     "metadata": {},
     "output_type": "execute_result"
    }
   ],
   "source": [
    "df.isnull().sum()"
   ]
  },
  {
   "cell_type": "code",
   "execution_count": 6,
   "id": "036b309e",
   "metadata": {},
   "outputs": [
    {
     "name": "stdout",
     "output_type": "stream",
     "text": [
      "<class 'pandas.core.frame.DataFrame'>\n",
      "RangeIndex: 506 entries, 0 to 505\n",
      "Data columns (total 14 columns):\n",
      " #   Column   Non-Null Count  Dtype  \n",
      "---  ------   --------------  -----  \n",
      " 0   CRIM     506 non-null    float64\n",
      " 1   ZN       506 non-null    float64\n",
      " 2   INDUS    506 non-null    float64\n",
      " 3   CHAS     506 non-null    int64  \n",
      " 4   NOX      506 non-null    float64\n",
      " 5   RM       506 non-null    float64\n",
      " 6   AGE      506 non-null    float64\n",
      " 7   DIS      506 non-null    float64\n",
      " 8   RAD      506 non-null    int64  \n",
      " 9   TAX      506 non-null    int64  \n",
      " 10  PTRATIO  506 non-null    float64\n",
      " 11  B        506 non-null    float64\n",
      " 12  LSTAT    506 non-null    float64\n",
      " 13  MEDV     506 non-null    float64\n",
      "dtypes: float64(11), int64(3)\n",
      "memory usage: 55.5 KB\n"
     ]
    }
   ],
   "source": [
    "df.info()"
   ]
  },
  {
   "cell_type": "code",
   "execution_count": 7,
   "id": "851ae670",
   "metadata": {},
   "outputs": [
    {
     "data": {
      "text/html": [
       "<div>\n",
       "<style scoped>\n",
       "    .dataframe tbody tr th:only-of-type {\n",
       "        vertical-align: middle;\n",
       "    }\n",
       "\n",
       "    .dataframe tbody tr th {\n",
       "        vertical-align: top;\n",
       "    }\n",
       "\n",
       "    .dataframe thead th {\n",
       "        text-align: right;\n",
       "    }\n",
       "</style>\n",
       "<table border=\"1\" class=\"dataframe\">\n",
       "  <thead>\n",
       "    <tr style=\"text-align: right;\">\n",
       "      <th></th>\n",
       "      <th>CRIM</th>\n",
       "      <th>ZN</th>\n",
       "      <th>INDUS</th>\n",
       "      <th>CHAS</th>\n",
       "      <th>NOX</th>\n",
       "      <th>RM</th>\n",
       "      <th>AGE</th>\n",
       "      <th>DIS</th>\n",
       "      <th>RAD</th>\n",
       "      <th>TAX</th>\n",
       "      <th>PTRATIO</th>\n",
       "      <th>B</th>\n",
       "      <th>LSTAT</th>\n",
       "      <th>MEDV</th>\n",
       "    </tr>\n",
       "  </thead>\n",
       "  <tbody>\n",
       "    <tr>\n",
       "      <th>count</th>\n",
       "      <td>506.000000</td>\n",
       "      <td>506.000000</td>\n",
       "      <td>506.000000</td>\n",
       "      <td>506.000000</td>\n",
       "      <td>506.000000</td>\n",
       "      <td>506.000000</td>\n",
       "      <td>506.000000</td>\n",
       "      <td>506.000000</td>\n",
       "      <td>506.000000</td>\n",
       "      <td>506.000000</td>\n",
       "      <td>506.000000</td>\n",
       "      <td>506.000000</td>\n",
       "      <td>506.000000</td>\n",
       "      <td>506.000000</td>\n",
       "    </tr>\n",
       "    <tr>\n",
       "      <th>mean</th>\n",
       "      <td>3.613524</td>\n",
       "      <td>11.363636</td>\n",
       "      <td>11.136779</td>\n",
       "      <td>0.069170</td>\n",
       "      <td>0.554695</td>\n",
       "      <td>6.284634</td>\n",
       "      <td>68.574901</td>\n",
       "      <td>3.795043</td>\n",
       "      <td>9.549407</td>\n",
       "      <td>408.237154</td>\n",
       "      <td>18.455534</td>\n",
       "      <td>356.674032</td>\n",
       "      <td>12.653063</td>\n",
       "      <td>22.532806</td>\n",
       "    </tr>\n",
       "    <tr>\n",
       "      <th>std</th>\n",
       "      <td>8.601545</td>\n",
       "      <td>23.322453</td>\n",
       "      <td>6.860353</td>\n",
       "      <td>0.253994</td>\n",
       "      <td>0.115878</td>\n",
       "      <td>0.702617</td>\n",
       "      <td>28.148861</td>\n",
       "      <td>2.105710</td>\n",
       "      <td>8.707259</td>\n",
       "      <td>168.537116</td>\n",
       "      <td>2.164946</td>\n",
       "      <td>91.294864</td>\n",
       "      <td>7.141062</td>\n",
       "      <td>9.197104</td>\n",
       "    </tr>\n",
       "    <tr>\n",
       "      <th>min</th>\n",
       "      <td>0.006320</td>\n",
       "      <td>0.000000</td>\n",
       "      <td>0.460000</td>\n",
       "      <td>0.000000</td>\n",
       "      <td>0.385000</td>\n",
       "      <td>3.561000</td>\n",
       "      <td>2.900000</td>\n",
       "      <td>1.129600</td>\n",
       "      <td>1.000000</td>\n",
       "      <td>187.000000</td>\n",
       "      <td>12.600000</td>\n",
       "      <td>0.320000</td>\n",
       "      <td>1.730000</td>\n",
       "      <td>5.000000</td>\n",
       "    </tr>\n",
       "    <tr>\n",
       "      <th>25%</th>\n",
       "      <td>0.082045</td>\n",
       "      <td>0.000000</td>\n",
       "      <td>5.190000</td>\n",
       "      <td>0.000000</td>\n",
       "      <td>0.449000</td>\n",
       "      <td>5.885500</td>\n",
       "      <td>45.025000</td>\n",
       "      <td>2.100175</td>\n",
       "      <td>4.000000</td>\n",
       "      <td>279.000000</td>\n",
       "      <td>17.400000</td>\n",
       "      <td>375.377500</td>\n",
       "      <td>6.950000</td>\n",
       "      <td>17.025000</td>\n",
       "    </tr>\n",
       "    <tr>\n",
       "      <th>50%</th>\n",
       "      <td>0.256510</td>\n",
       "      <td>0.000000</td>\n",
       "      <td>9.690000</td>\n",
       "      <td>0.000000</td>\n",
       "      <td>0.538000</td>\n",
       "      <td>6.208500</td>\n",
       "      <td>77.500000</td>\n",
       "      <td>3.207450</td>\n",
       "      <td>5.000000</td>\n",
       "      <td>330.000000</td>\n",
       "      <td>19.050000</td>\n",
       "      <td>391.440000</td>\n",
       "      <td>11.360000</td>\n",
       "      <td>21.200000</td>\n",
       "    </tr>\n",
       "    <tr>\n",
       "      <th>75%</th>\n",
       "      <td>3.677083</td>\n",
       "      <td>12.500000</td>\n",
       "      <td>18.100000</td>\n",
       "      <td>0.000000</td>\n",
       "      <td>0.624000</td>\n",
       "      <td>6.623500</td>\n",
       "      <td>94.075000</td>\n",
       "      <td>5.188425</td>\n",
       "      <td>24.000000</td>\n",
       "      <td>666.000000</td>\n",
       "      <td>20.200000</td>\n",
       "      <td>396.225000</td>\n",
       "      <td>16.955000</td>\n",
       "      <td>25.000000</td>\n",
       "    </tr>\n",
       "    <tr>\n",
       "      <th>max</th>\n",
       "      <td>88.976200</td>\n",
       "      <td>100.000000</td>\n",
       "      <td>27.740000</td>\n",
       "      <td>1.000000</td>\n",
       "      <td>0.871000</td>\n",
       "      <td>8.780000</td>\n",
       "      <td>100.000000</td>\n",
       "      <td>12.126500</td>\n",
       "      <td>24.000000</td>\n",
       "      <td>711.000000</td>\n",
       "      <td>22.000000</td>\n",
       "      <td>396.900000</td>\n",
       "      <td>37.970000</td>\n",
       "      <td>50.000000</td>\n",
       "    </tr>\n",
       "  </tbody>\n",
       "</table>\n",
       "</div>"
      ],
      "text/plain": [
       "             CRIM          ZN       INDUS        CHAS         NOX          RM  \\\n",
       "count  506.000000  506.000000  506.000000  506.000000  506.000000  506.000000   \n",
       "mean     3.613524   11.363636   11.136779    0.069170    0.554695    6.284634   \n",
       "std      8.601545   23.322453    6.860353    0.253994    0.115878    0.702617   \n",
       "min      0.006320    0.000000    0.460000    0.000000    0.385000    3.561000   \n",
       "25%      0.082045    0.000000    5.190000    0.000000    0.449000    5.885500   \n",
       "50%      0.256510    0.000000    9.690000    0.000000    0.538000    6.208500   \n",
       "75%      3.677083   12.500000   18.100000    0.000000    0.624000    6.623500   \n",
       "max     88.976200  100.000000   27.740000    1.000000    0.871000    8.780000   \n",
       "\n",
       "              AGE         DIS         RAD         TAX     PTRATIO           B  \\\n",
       "count  506.000000  506.000000  506.000000  506.000000  506.000000  506.000000   \n",
       "mean    68.574901    3.795043    9.549407  408.237154   18.455534  356.674032   \n",
       "std     28.148861    2.105710    8.707259  168.537116    2.164946   91.294864   \n",
       "min      2.900000    1.129600    1.000000  187.000000   12.600000    0.320000   \n",
       "25%     45.025000    2.100175    4.000000  279.000000   17.400000  375.377500   \n",
       "50%     77.500000    3.207450    5.000000  330.000000   19.050000  391.440000   \n",
       "75%     94.075000    5.188425   24.000000  666.000000   20.200000  396.225000   \n",
       "max    100.000000   12.126500   24.000000  711.000000   22.000000  396.900000   \n",
       "\n",
       "            LSTAT        MEDV  \n",
       "count  506.000000  506.000000  \n",
       "mean    12.653063   22.532806  \n",
       "std      7.141062    9.197104  \n",
       "min      1.730000    5.000000  \n",
       "25%      6.950000   17.025000  \n",
       "50%     11.360000   21.200000  \n",
       "75%     16.955000   25.000000  \n",
       "max     37.970000   50.000000  "
      ]
     },
     "execution_count": 7,
     "metadata": {},
     "output_type": "execute_result"
    }
   ],
   "source": [
    "df.describe()"
   ]
  },
  {
   "cell_type": "markdown",
   "id": "44bc6735",
   "metadata": {},
   "source": [
    "#### Checking correlation with target variable MEDV"
   ]
  },
  {
   "cell_type": "code",
   "execution_count": 8,
   "id": "64ef4b15",
   "metadata": {},
   "outputs": [
    {
     "data": {
      "text/plain": [
       "LSTAT     -0.737663\n",
       "PTRATIO   -0.507787\n",
       "INDUS     -0.483725\n",
       "TAX       -0.468536\n",
       "NOX       -0.427321\n",
       "CRIM      -0.388305\n",
       "RAD       -0.381626\n",
       "AGE       -0.376955\n",
       "CHAS       0.175260\n",
       "DIS        0.249929\n",
       "B          0.333461\n",
       "ZN         0.360445\n",
       "RM         0.695360\n",
       "MEDV       1.000000\n",
       "Name: MEDV, dtype: float64"
      ]
     },
     "execution_count": 8,
     "metadata": {},
     "output_type": "execute_result"
    }
   ],
   "source": [
    "df.corr()['MEDV'].sort_values()"
   ]
  },
  {
   "cell_type": "code",
   "execution_count": 9,
   "id": "7168e688",
   "metadata": {},
   "outputs": [
    {
     "data": {
      "text/plain": [
       "((506, 3), (506,))"
      ]
     },
     "execution_count": 9,
     "metadata": {},
     "output_type": "execute_result"
    }
   ],
   "source": [
    "X = df.loc[:,['LSTAT','PTRATIO','RM']]\n",
    "Y = df.loc[:,\"MEDV\"]\n",
    "X.shape,Y.shape"
   ]
  },
  {
   "cell_type": "markdown",
   "id": "08648c29",
   "metadata": {},
   "source": [
    "### Preparing training and testing data set"
   ]
  },
  {
   "cell_type": "code",
   "execution_count": 10,
   "id": "cecea370",
   "metadata": {},
   "outputs": [],
   "source": [
    "from sklearn.model_selection import train_test_split\n",
    "x_train,x_test,y_train,y_test = train_test_split(X,Y,test_size=0.25,random_state=10)"
   ]
  },
  {
   "cell_type": "markdown",
   "id": "7eabb9f2",
   "metadata": {},
   "source": [
    "### Normalizing training and testing dataset"
   ]
  },
  {
   "cell_type": "code",
   "execution_count": 11,
   "id": "926fe0ce",
   "metadata": {},
   "outputs": [],
   "source": [
    "from sklearn.preprocessing import StandardScaler"
   ]
  },
  {
   "cell_type": "code",
   "execution_count": 12,
   "id": "1e49c4a2",
   "metadata": {},
   "outputs": [],
   "source": [
    "scaler = StandardScaler()"
   ]
  },
  {
   "cell_type": "code",
   "execution_count": 13,
   "id": "b99b26de",
   "metadata": {},
   "outputs": [
    {
     "data": {
      "text/plain": [
       "StandardScaler()"
      ]
     },
     "execution_count": 13,
     "metadata": {},
     "output_type": "execute_result"
    }
   ],
   "source": [
    "scaler.fit(x_train)"
   ]
  },
  {
   "cell_type": "code",
   "execution_count": 14,
   "id": "eece8526",
   "metadata": {},
   "outputs": [],
   "source": [
    "x_train = scaler.transform(x_train)\n",
    "x_test = scaler.transform(x_test)"
   ]
  },
  {
   "cell_type": "markdown",
   "id": "a1ed18cc",
   "metadata": {},
   "source": [
    "### Preparing model"
   ]
  },
  {
   "cell_type": "code",
   "execution_count": 15,
   "id": "1243c6f8",
   "metadata": {},
   "outputs": [],
   "source": [
    "from keras.models import Sequential\n",
    "from keras.layers import Dense"
   ]
  },
  {
   "cell_type": "code",
   "execution_count": 16,
   "id": "e7dad931",
   "metadata": {},
   "outputs": [],
   "source": [
    "model = Sequential()"
   ]
  },
  {
   "cell_type": "code",
   "execution_count": 17,
   "id": "0baf27a9",
   "metadata": {},
   "outputs": [
    {
     "name": "stdout",
     "output_type": "stream",
     "text": [
      "Model: \"sequential\"\n",
      "_________________________________________________________________\n",
      " Layer (type)                Output Shape              Param #   \n",
      "=================================================================\n",
      " input (Dense)               (None, 128)               512       \n",
      "                                                                 \n",
      " layer_1 (Dense)             (None, 64)                8256      \n",
      "                                                                 \n",
      " output (Dense)              (None, 1)                 65        \n",
      "                                                                 \n",
      "=================================================================\n",
      "Total params: 8,833\n",
      "Trainable params: 8,833\n",
      "Non-trainable params: 0\n",
      "_________________________________________________________________\n"
     ]
    }
   ],
   "source": [
    "model.add(Dense(128,input_shape=(3,),activation='relu',name='input'))\n",
    "model.add(Dense(64,activation='relu',name='layer_1'))\n",
    "model.add(Dense(1,activation='linear',name='output'))\n",
    "model.compile(optimizer='adam', loss='mse', metrics=['mae'])\n",
    "model.summary()"
   ]
  },
  {
   "cell_type": "code",
   "execution_count": 18,
   "id": "4b51358b",
   "metadata": {},
   "outputs": [
    {
     "name": "stdout",
     "output_type": "stream",
     "text": [
      "Epoch 1/100\n",
      "12/12 [==============================] - 1s 36ms/step - loss: 535.2020 - mae: 21.4679 - val_loss: 702.6586 - val_mae: 23.7679\n",
      "Epoch 2/100\n",
      "12/12 [==============================] - 0s 7ms/step - loss: 502.5465 - mae: 20.6924 - val_loss: 658.7899 - val_mae: 22.7595\n",
      "Epoch 3/100\n",
      "12/12 [==============================] - 0s 6ms/step - loss: 457.4920 - mae: 19.5436 - val_loss: 594.9371 - val_mae: 21.2175\n",
      "Epoch 4/100\n",
      "12/12 [==============================] - 0s 7ms/step - loss: 390.8872 - mae: 17.8020 - val_loss: 509.5790 - val_mae: 19.2035\n",
      "Epoch 5/100\n",
      "12/12 [==============================] - 0s 7ms/step - loss: 303.3985 - mae: 15.4747 - val_loss: 407.3878 - val_mae: 16.6817\n",
      "Epoch 6/100\n",
      "12/12 [==============================] - 0s 8ms/step - loss: 205.8007 - mae: 12.6253 - val_loss: 298.3085 - val_mae: 13.5256\n",
      "Epoch 7/100\n",
      "12/12 [==============================] - 0s 7ms/step - loss: 115.0360 - mae: 9.3295 - val_loss: 203.8898 - val_mae: 10.9251\n",
      "Epoch 8/100\n",
      "12/12 [==============================] - 0s 7ms/step - loss: 55.7324 - mae: 6.3223 - val_loss: 145.2325 - val_mae: 8.9839\n",
      "Epoch 9/100\n",
      "12/12 [==============================] - 0s 7ms/step - loss: 36.4868 - mae: 4.6320 - val_loss: 116.8041 - val_mae: 7.6901\n",
      "Epoch 10/100\n",
      "12/12 [==============================] - 0s 7ms/step - loss: 32.2800 - mae: 4.2612 - val_loss: 104.4278 - val_mae: 7.2479\n",
      "Epoch 11/100\n",
      "12/12 [==============================] - 0s 7ms/step - loss: 28.3553 - mae: 3.9501 - val_loss: 99.2928 - val_mae: 7.0822\n",
      "Epoch 12/100\n",
      "12/12 [==============================] - 0s 7ms/step - loss: 26.0496 - mae: 3.7779 - val_loss: 97.2226 - val_mae: 6.9778\n",
      "Epoch 13/100\n",
      "12/12 [==============================] - 0s 7ms/step - loss: 24.7477 - mae: 3.6779 - val_loss: 93.3016 - val_mae: 6.8322\n",
      "Epoch 14/100\n",
      "12/12 [==============================] - 0s 7ms/step - loss: 23.7497 - mae: 3.5852 - val_loss: 89.7109 - val_mae: 6.7321\n",
      "Epoch 15/100\n",
      "12/12 [==============================] - 0s 6ms/step - loss: 22.8901 - mae: 3.5096 - val_loss: 88.4216 - val_mae: 6.6750\n",
      "Epoch 16/100\n",
      "12/12 [==============================] - 0s 7ms/step - loss: 22.3201 - mae: 3.4636 - val_loss: 87.5948 - val_mae: 6.6092\n",
      "Epoch 17/100\n",
      "12/12 [==============================] - 0s 6ms/step - loss: 21.7022 - mae: 3.4150 - val_loss: 88.2170 - val_mae: 6.5882\n",
      "Epoch 18/100\n",
      "12/12 [==============================] - 0s 7ms/step - loss: 21.2361 - mae: 3.3686 - val_loss: 87.5572 - val_mae: 6.5470\n",
      "Epoch 19/100\n",
      "12/12 [==============================] - 0s 7ms/step - loss: 20.7857 - mae: 3.3526 - val_loss: 85.7349 - val_mae: 6.4810\n",
      "Epoch 20/100\n",
      "12/12 [==============================] - 0s 6ms/step - loss: 20.1762 - mae: 3.3074 - val_loss: 86.2973 - val_mae: 6.4362\n",
      "Epoch 21/100\n",
      "12/12 [==============================] - 0s 7ms/step - loss: 19.7479 - mae: 3.2671 - val_loss: 85.7631 - val_mae: 6.3759\n",
      "Epoch 22/100\n",
      "12/12 [==============================] - 0s 7ms/step - loss: 19.2731 - mae: 3.2176 - val_loss: 85.5390 - val_mae: 6.3257\n",
      "Epoch 23/100\n",
      "12/12 [==============================] - 0s 7ms/step - loss: 18.8237 - mae: 3.1774 - val_loss: 85.7053 - val_mae: 6.2628\n",
      "Epoch 24/100\n",
      "12/12 [==============================] - 0s 7ms/step - loss: 18.5400 - mae: 3.1500 - val_loss: 85.5374 - val_mae: 6.2458\n",
      "Epoch 25/100\n",
      "12/12 [==============================] - 0s 7ms/step - loss: 18.1153 - mae: 3.1210 - val_loss: 83.2248 - val_mae: 6.1385\n",
      "Epoch 26/100\n",
      "12/12 [==============================] - 0s 7ms/step - loss: 17.8465 - mae: 3.1078 - val_loss: 82.3951 - val_mae: 6.0812\n",
      "Epoch 27/100\n",
      "12/12 [==============================] - 0s 6ms/step - loss: 17.5403 - mae: 3.0691 - val_loss: 83.2572 - val_mae: 6.0458\n",
      "Epoch 28/100\n",
      "12/12 [==============================] - 0s 6ms/step - loss: 17.1830 - mae: 3.0304 - val_loss: 83.1240 - val_mae: 6.0035\n",
      "Epoch 29/100\n",
      "12/12 [==============================] - 0s 7ms/step - loss: 16.9515 - mae: 3.0058 - val_loss: 83.5356 - val_mae: 5.9789\n",
      "Epoch 30/100\n",
      "12/12 [==============================] - 0s 7ms/step - loss: 16.6914 - mae: 2.9820 - val_loss: 82.6240 - val_mae: 5.9218\n",
      "Epoch 31/100\n",
      "12/12 [==============================] - 0s 6ms/step - loss: 16.4803 - mae: 2.9697 - val_loss: 81.5211 - val_mae: 5.8590\n",
      "Epoch 32/100\n",
      "12/12 [==============================] - 0s 6ms/step - loss: 16.2361 - mae: 2.9536 - val_loss: 81.0225 - val_mae: 5.8295\n",
      "Epoch 33/100\n",
      "12/12 [==============================] - 0s 7ms/step - loss: 16.0433 - mae: 2.9247 - val_loss: 82.5225 - val_mae: 5.8754\n",
      "Epoch 34/100\n",
      "12/12 [==============================] - 0s 8ms/step - loss: 15.8838 - mae: 2.9088 - val_loss: 83.5352 - val_mae: 5.8806\n",
      "Epoch 35/100\n",
      "12/12 [==============================] - 0s 7ms/step - loss: 15.7480 - mae: 2.9007 - val_loss: 82.0201 - val_mae: 5.7965\n",
      "Epoch 36/100\n",
      "12/12 [==============================] - 0s 7ms/step - loss: 15.5435 - mae: 2.8764 - val_loss: 82.4918 - val_mae: 5.8097\n",
      "Epoch 37/100\n",
      "12/12 [==============================] - 0s 7ms/step - loss: 15.4677 - mae: 2.8703 - val_loss: 80.2346 - val_mae: 5.7253\n",
      "Epoch 38/100\n",
      "12/12 [==============================] - 0s 6ms/step - loss: 15.2433 - mae: 2.8537 - val_loss: 81.6084 - val_mae: 5.7314\n",
      "Epoch 39/100\n",
      "12/12 [==============================] - 0s 7ms/step - loss: 15.1506 - mae: 2.8358 - val_loss: 81.9234 - val_mae: 5.7213\n",
      "Epoch 40/100\n",
      "12/12 [==============================] - 0s 7ms/step - loss: 15.1073 - mae: 2.8221 - val_loss: 83.3667 - val_mae: 5.7585\n",
      "Epoch 41/100\n",
      "12/12 [==============================] - 0s 7ms/step - loss: 14.9184 - mae: 2.8039 - val_loss: 79.5083 - val_mae: 5.6332\n",
      "Epoch 42/100\n",
      "12/12 [==============================] - 0s 7ms/step - loss: 14.8347 - mae: 2.8175 - val_loss: 80.5906 - val_mae: 5.6583\n",
      "Epoch 43/100\n",
      "12/12 [==============================] - 0s 7ms/step - loss: 14.5961 - mae: 2.7822 - val_loss: 83.0514 - val_mae: 5.7417\n",
      "Epoch 44/100\n",
      "12/12 [==============================] - 0s 7ms/step - loss: 14.6107 - mae: 2.7886 - val_loss: 81.4942 - val_mae: 5.6957\n",
      "Epoch 45/100\n",
      "12/12 [==============================] - 0s 7ms/step - loss: 14.6061 - mae: 2.7764 - val_loss: 80.4428 - val_mae: 5.6247\n",
      "Epoch 46/100\n",
      "12/12 [==============================] - 0s 7ms/step - loss: 14.3863 - mae: 2.7507 - val_loss: 82.4425 - val_mae: 5.6562\n",
      "Epoch 47/100\n",
      "12/12 [==============================] - 0s 7ms/step - loss: 14.2525 - mae: 2.7586 - val_loss: 81.1326 - val_mae: 5.6083\n",
      "Epoch 48/100\n",
      "12/12 [==============================] - 0s 7ms/step - loss: 14.1865 - mae: 2.7373 - val_loss: 80.3684 - val_mae: 5.5857\n",
      "Epoch 49/100\n",
      "12/12 [==============================] - 0s 7ms/step - loss: 14.1618 - mae: 2.7303 - val_loss: 80.4065 - val_mae: 5.5573\n",
      "Epoch 50/100\n",
      "12/12 [==============================] - 0s 7ms/step - loss: 13.9988 - mae: 2.7298 - val_loss: 80.3718 - val_mae: 5.5619\n",
      "Epoch 51/100\n",
      "12/12 [==============================] - 0s 6ms/step - loss: 13.8949 - mae: 2.7282 - val_loss: 79.8096 - val_mae: 5.5411\n",
      "Epoch 52/100\n",
      "12/12 [==============================] - 0s 6ms/step - loss: 13.8657 - mae: 2.7191 - val_loss: 79.3347 - val_mae: 5.5104\n",
      "Epoch 53/100\n",
      "12/12 [==============================] - 0s 5ms/step - loss: 13.7053 - mae: 2.6830 - val_loss: 84.2817 - val_mae: 5.6113\n",
      "Epoch 54/100\n",
      "12/12 [==============================] - 0s 7ms/step - loss: 13.6691 - mae: 2.6789 - val_loss: 81.7152 - val_mae: 5.5420\n",
      "Epoch 55/100\n",
      "12/12 [==============================] - 0s 7ms/step - loss: 13.6715 - mae: 2.6988 - val_loss: 82.0477 - val_mae: 5.5550\n",
      "Epoch 56/100\n",
      "12/12 [==============================] - 0s 7ms/step - loss: 13.5228 - mae: 2.6746 - val_loss: 81.6454 - val_mae: 5.5274\n",
      "Epoch 57/100\n",
      "12/12 [==============================] - 0s 7ms/step - loss: 13.3735 - mae: 2.6464 - val_loss: 82.5530 - val_mae: 5.5215\n",
      "Epoch 58/100\n",
      "12/12 [==============================] - 0s 6ms/step - loss: 13.2862 - mae: 2.6468 - val_loss: 82.0146 - val_mae: 5.5197\n",
      "Epoch 59/100\n",
      "12/12 [==============================] - 0s 7ms/step - loss: 13.3518 - mae: 2.6664 - val_loss: 79.4887 - val_mae: 5.4506\n",
      "Epoch 60/100\n",
      "12/12 [==============================] - 0s 7ms/step - loss: 13.0572 - mae: 2.6382 - val_loss: 81.5373 - val_mae: 5.5197\n",
      "Epoch 61/100\n",
      "12/12 [==============================] - 0s 6ms/step - loss: 13.1814 - mae: 2.6501 - val_loss: 80.5892 - val_mae: 5.4783\n"
     ]
    },
    {
     "name": "stdout",
     "output_type": "stream",
     "text": [
      "Epoch 62/100\n",
      "12/12 [==============================] - 0s 7ms/step - loss: 12.9191 - mae: 2.6178 - val_loss: 79.8061 - val_mae: 5.4452\n",
      "Epoch 63/100\n",
      "12/12 [==============================] - 0s 7ms/step - loss: 12.9638 - mae: 2.6144 - val_loss: 81.3113 - val_mae: 5.4556\n",
      "Epoch 64/100\n",
      "12/12 [==============================] - 0s 7ms/step - loss: 12.7895 - mae: 2.6038 - val_loss: 78.8079 - val_mae: 5.3841\n",
      "Epoch 65/100\n",
      "12/12 [==============================] - 0s 6ms/step - loss: 12.8237 - mae: 2.5998 - val_loss: 80.9249 - val_mae: 5.4336\n",
      "Epoch 66/100\n",
      "12/12 [==============================] - 0s 7ms/step - loss: 12.6457 - mae: 2.5798 - val_loss: 79.0491 - val_mae: 5.3478\n",
      "Epoch 67/100\n",
      "12/12 [==============================] - 0s 7ms/step - loss: 12.6276 - mae: 2.5669 - val_loss: 81.1735 - val_mae: 5.3755\n",
      "Epoch 68/100\n",
      "12/12 [==============================] - 0s 6ms/step - loss: 12.5345 - mae: 2.5521 - val_loss: 79.2457 - val_mae: 5.3236\n",
      "Epoch 69/100\n",
      "12/12 [==============================] - 0s 6ms/step - loss: 12.4329 - mae: 2.5380 - val_loss: 81.8355 - val_mae: 5.3579\n",
      "Epoch 70/100\n",
      "12/12 [==============================] - 0s 7ms/step - loss: 12.4236 - mae: 2.5554 - val_loss: 80.8292 - val_mae: 5.3523\n",
      "Epoch 71/100\n",
      "12/12 [==============================] - 0s 7ms/step - loss: 12.4315 - mae: 2.5716 - val_loss: 80.2142 - val_mae: 5.3435\n",
      "Epoch 72/100\n",
      "12/12 [==============================] - 0s 7ms/step - loss: 12.2587 - mae: 2.5319 - val_loss: 81.9872 - val_mae: 5.3630\n",
      "Epoch 73/100\n",
      "12/12 [==============================] - 0s 7ms/step - loss: 12.1575 - mae: 2.5271 - val_loss: 80.0259 - val_mae: 5.3193\n",
      "Epoch 74/100\n",
      "12/12 [==============================] - 0s 7ms/step - loss: 12.2010 - mae: 2.5452 - val_loss: 82.0619 - val_mae: 5.3577\n",
      "Epoch 75/100\n",
      "12/12 [==============================] - 0s 7ms/step - loss: 11.9555 - mae: 2.5202 - val_loss: 82.1170 - val_mae: 5.3514\n",
      "Epoch 76/100\n",
      "12/12 [==============================] - 0s 6ms/step - loss: 11.9227 - mae: 2.4966 - val_loss: 80.0957 - val_mae: 5.2737\n",
      "Epoch 77/100\n",
      "12/12 [==============================] - 0s 6ms/step - loss: 12.0238 - mae: 2.5218 - val_loss: 79.8958 - val_mae: 5.2309\n",
      "Epoch 78/100\n",
      "12/12 [==============================] - 0s 7ms/step - loss: 11.8101 - mae: 2.4849 - val_loss: 80.5046 - val_mae: 5.2497\n",
      "Epoch 79/100\n",
      "12/12 [==============================] - 0s 7ms/step - loss: 11.8670 - mae: 2.5006 - val_loss: 82.9533 - val_mae: 5.3374\n",
      "Epoch 80/100\n",
      "12/12 [==============================] - 0s 7ms/step - loss: 11.7229 - mae: 2.4948 - val_loss: 81.6392 - val_mae: 5.3042\n",
      "Epoch 81/100\n",
      "12/12 [==============================] - 0s 7ms/step - loss: 11.6739 - mae: 2.4817 - val_loss: 79.5637 - val_mae: 5.2272\n",
      "Epoch 82/100\n",
      "12/12 [==============================] - 0s 7ms/step - loss: 11.5685 - mae: 2.4759 - val_loss: 80.7803 - val_mae: 5.2735\n",
      "Epoch 83/100\n",
      "12/12 [==============================] - 0s 7ms/step - loss: 11.5452 - mae: 2.4759 - val_loss: 80.6107 - val_mae: 5.2530\n",
      "Epoch 84/100\n",
      "12/12 [==============================] - 0s 5ms/step - loss: 11.6626 - mae: 2.4823 - val_loss: 80.7510 - val_mae: 5.2100\n",
      "Epoch 85/100\n",
      "12/12 [==============================] - 0s 7ms/step - loss: 11.5171 - mae: 2.4578 - val_loss: 81.0812 - val_mae: 5.2097\n",
      "Epoch 86/100\n",
      "12/12 [==============================] - 0s 7ms/step - loss: 11.4271 - mae: 2.4364 - val_loss: 81.4586 - val_mae: 5.2303\n",
      "Epoch 87/100\n",
      "12/12 [==============================] - 0s 7ms/step - loss: 11.3879 - mae: 2.4533 - val_loss: 81.5679 - val_mae: 5.2438\n",
      "Epoch 88/100\n",
      "12/12 [==============================] - 0s 7ms/step - loss: 11.2463 - mae: 2.4458 - val_loss: 82.2196 - val_mae: 5.2401\n",
      "Epoch 89/100\n",
      "12/12 [==============================] - 0s 7ms/step - loss: 11.2361 - mae: 2.4399 - val_loss: 81.1377 - val_mae: 5.2025\n",
      "Epoch 90/100\n",
      "12/12 [==============================] - 0s 6ms/step - loss: 11.2909 - mae: 2.4418 - val_loss: 81.2953 - val_mae: 5.1621\n",
      "Epoch 91/100\n",
      "12/12 [==============================] - 0s 8ms/step - loss: 11.2082 - mae: 2.4157 - val_loss: 82.2364 - val_mae: 5.2180\n",
      "Epoch 92/100\n",
      "12/12 [==============================] - 0s 8ms/step - loss: 11.7511 - mae: 2.5013 - val_loss: 86.9854 - val_mae: 5.3428\n",
      "Epoch 93/100\n",
      "12/12 [==============================] - 0s 6ms/step - loss: 11.1065 - mae: 2.4556 - val_loss: 81.5705 - val_mae: 5.2049\n",
      "Epoch 94/100\n",
      "12/12 [==============================] - 0s 7ms/step - loss: 11.0764 - mae: 2.4209 - val_loss: 82.0750 - val_mae: 5.2049\n",
      "Epoch 95/100\n",
      "12/12 [==============================] - 0s 7ms/step - loss: 11.0574 - mae: 2.4114 - val_loss: 81.6904 - val_mae: 5.2274\n",
      "Epoch 96/100\n",
      "12/12 [==============================] - 0s 7ms/step - loss: 11.0967 - mae: 2.4353 - val_loss: 81.6357 - val_mae: 5.2189\n",
      "Epoch 97/100\n",
      "12/12 [==============================] - 0s 6ms/step - loss: 11.0293 - mae: 2.4185 - val_loss: 83.3532 - val_mae: 5.1898\n",
      "Epoch 98/100\n",
      "12/12 [==============================] - 0s 6ms/step - loss: 10.9214 - mae: 2.3919 - val_loss: 82.8948 - val_mae: 5.1902\n",
      "Epoch 99/100\n",
      "12/12 [==============================] - 0s 7ms/step - loss: 10.9722 - mae: 2.4137 - val_loss: 83.5563 - val_mae: 5.2173\n",
      "Epoch 100/100\n",
      "12/12 [==============================] - 0s 7ms/step - loss: 10.8873 - mae: 2.4005 - val_loss: 82.5877 - val_mae: 5.1653\n"
     ]
    },
    {
     "data": {
      "text/plain": [
       "<keras.callbacks.History at 0x1f2d1f2c3d0>"
      ]
     },
     "execution_count": 18,
     "metadata": {},
     "output_type": "execute_result"
    }
   ],
   "source": [
    "model.fit(x_train,y_train,epochs=100,validation_split=0.05)"
   ]
  },
  {
   "cell_type": "code",
   "execution_count": 19,
   "id": "e2afb08a",
   "metadata": {},
   "outputs": [
    {
     "name": "stdout",
     "output_type": "stream",
     "text": [
      "4/4 [==============================] - 0s 7ms/step - loss: 22.9642 - mae: 3.1864\n"
     ]
    }
   ],
   "source": [
    "output = model.evaluate(x_test,y_test)"
   ]
  },
  {
   "cell_type": "code",
   "execution_count": 20,
   "id": "b7bf34bd",
   "metadata": {},
   "outputs": [
    {
     "name": "stdout",
     "output_type": "stream",
     "text": [
      "Mean Squared Error: 22.964229583740234\n",
      "Mean Absolute Error: 3.186422348022461\n"
     ]
    }
   ],
   "source": [
    "print(f\"Mean Squared Error: {output[0]}\"\n",
    "      ,f\"Mean Absolute Error: {output[1]}\",sep=\"\\n\")"
   ]
  },
  {
   "cell_type": "code",
   "execution_count": 21,
   "id": "85333e40",
   "metadata": {},
   "outputs": [
    {
     "name": "stdout",
     "output_type": "stream",
     "text": [
      "4/4 [==============================] - 0s 7ms/step\n"
     ]
    }
   ],
   "source": [
    "y_pred = model.predict(x=x_test)"
   ]
  },
  {
   "cell_type": "code",
   "execution_count": 22,
   "id": "4be4c127",
   "metadata": {},
   "outputs": [
    {
     "name": "stdout",
     "output_type": "stream",
     "text": [
      "(array([24.896708], dtype=float32), 28.4) (array([30.807209], dtype=float32), 31.1) (array([26.26641], dtype=float32), 23.5) (array([27.385801], dtype=float32), 26.6) (array([20.21659], dtype=float32), 19.6) (array([16.621592], dtype=float32), 14.3) (array([42.052628], dtype=float32), 50.0) (array([14.676495], dtype=float32), 14.3) (array([19.534525], dtype=float32), 20.7) (array([43.104477], dtype=float32), 37.6) (array([17.756628], dtype=float32), 20.4) (array([26.430956], dtype=float32), 27.5) (array([22.36911], dtype=float32), 36.2) (array([32.203735], dtype=float32), 32.0) (array([30.925547], dtype=float32), 33.1) (array([51.93505], dtype=float32), 48.8) (array([26.320187], dtype=float32), 24.6) (array([19.558897], dtype=float32), 26.4) (array([21.228613], dtype=float32), 23.2) (array([20.020536], dtype=float32), 17.0) (array([33.74374], dtype=float32), 41.3) (array([15.536186], dtype=float32), 14.9) (array([22.118069], dtype=float32), 18.5) (array([25.399366], dtype=float32), 25.0) (array([37.032223], dtype=float32), 36.4) (array([21.30969], dtype=float32), 19.5) (array([18.418032], dtype=float32), 27.1) (array([16.647877], dtype=float32), 14.9) (array([42.66691], dtype=float32), 46.0) (array([11.252024], dtype=float32), 17.9) (array([35.77408], dtype=float32), 30.3) (array([32.06968], dtype=float32), 31.6) (array([26.342115], dtype=float32), 23.1) (array([24.039991], dtype=float32), 24.7) (array([15.01525], dtype=float32), 16.7) (array([19.744358], dtype=float32), 18.3) (array([8.731164], dtype=float32), 8.4) (array([32.02106], dtype=float32), 37.3) (array([24.875895], dtype=float32), 22.1) (array([24.277414], dtype=float32), 22.0) (array([39.10199], dtype=float32), 46.7) (array([26.14456], dtype=float32), 30.1) (array([13.638767], dtype=float32), 12.1) (array([29.452255], dtype=float32), 29.1) (array([17.11763], dtype=float32), 16.6) (array([27.135633], dtype=float32), 23.9) (array([17.897121], dtype=float32), 19.9) (array([18.59458], dtype=float32), 21.4) (array([44.15426], dtype=float32), 45.4) (array([16.09604], dtype=float32), 15.6) (array([20.707216], dtype=float32), 22.7) (array([14.357071], dtype=float32), 12.5) (array([20.332266], dtype=float32), 24.3) (array([39.10474], dtype=float32), 43.8) (array([23.885283], dtype=float32), 22.0) (array([35.560234], dtype=float32), 33.8) (array([19.368315], dtype=float32), 19.3) (array([18.93797], dtype=float32), 22.6) (array([22.728065], dtype=float32), 16.1) (array([21.322868], dtype=float32), 15.0) (array([18.649475], dtype=float32), 19.6) (array([20.728874], dtype=float32), 21.2) (array([51.15235], dtype=float32), 50.0) (array([56.027817], dtype=float32), 50.0) (array([27.753088], dtype=float32), 29.4) (array([14.851791], dtype=float32), 17.8) (array([25.258217], dtype=float32), 22.8) (array([12.597438], dtype=float32), 8.8) (array([27.256842], dtype=float32), 32.5) (array([39.251076], dtype=float32), 42.8) (array([16.563627], dtype=float32), 12.6) (array([28.307932], dtype=float32), 28.6) (array([17.552526], dtype=float32), 19.1) (array([21.951796], dtype=float32), 50.0) (array([21.299316], dtype=float32), 27.5) (array([12.29826], dtype=float32), 23.7) (array([47.824505], dtype=float32), 50.0) (array([9.989706], dtype=float32), 7.2) (array([20.018372], dtype=float32), 18.7) (array([32.856865], dtype=float32), 37.0) (array([20.187185], dtype=float32), 22.9) (array([25.531815], dtype=float32), 22.9) (array([19.787548], dtype=float32), 17.1) (array([24.714682], dtype=float32), 22.0) (array([31.298685], dtype=float32), 23.6) (array([25.34052], dtype=float32), 23.9) (array([26.18276], dtype=float32), 27.1) (array([34.60595], dtype=float32), 29.0) (array([24.502504], dtype=float32), 22.2) (array([11.385779], dtype=float32), 7.0) (array([23.605776], dtype=float32), 20.7) (array([21.156952], dtype=float32), 18.5) (array([23.685505], dtype=float32), 21.6) (array([25.14762], dtype=float32), 23.0) (array([18.631319], dtype=float32), 16.0) (array([19.119888], dtype=float32), 15.0) (array([26.027609], dtype=float32), 23.9) (array([19.055185], dtype=float32), 24.4) (array([21.333982], dtype=float32), 22.6) (array([18.644814], dtype=float32), 19.8) (array([21.631739], dtype=float32), 22.2) (array([19.664139], dtype=float32), 18.6) (array([19.30361], dtype=float32), 19.7) (array([25.129246], dtype=float32), 23.1) (array([13.455353], dtype=float32), 13.5) (array([20.971987], dtype=float32), 21.2) (array([19.080997], dtype=float32), 23.1) (array([15.122335], dtype=float32), 13.6) (array([28.742914], dtype=float32), 22.8) (array([23.38122], dtype=float32), 18.2) (array([11.43721], dtype=float32), 13.1) (array([17.80446], dtype=float32), 23.2) (array([24.759949], dtype=float32), 22.8) (array([24.65534], dtype=float32), 25.1) (array([22.178282], dtype=float32), 18.9) (array([13.389548], dtype=float32), 10.9) (array([14.572165], dtype=float32), 19.3) (array([20.574968], dtype=float32), 17.4) (array([18.920057], dtype=float32), 15.6) (array([20.101072], dtype=float32), 20.6) (array([29.520529], dtype=float32), 50.0) (array([35.4107], dtype=float32), 32.7) (array([21.077139], dtype=float32), 21.8) (array([17.116116], dtype=float32), 13.4) (array([17.292065], dtype=float32), 16.6) (array([23.543604], dtype=float32), 23.6) (array([12.50725], dtype=float32), 11.0)\n"
     ]
    }
   ],
   "source": [
    "print(*zip(y_pred,y_test))"
   ]
  },
  {
   "cell_type": "code",
   "execution_count": 23,
   "id": "fbaee296",
   "metadata": {},
   "outputs": [
    {
     "ename": "AttributeError",
     "evalue": "'Sequential' object has no attribute 'accuracy'",
     "output_type": "error",
     "traceback": [
      "\u001b[1;31m---------------------------------------------------------------------------\u001b[0m",
      "\u001b[1;31mAttributeError\u001b[0m                            Traceback (most recent call last)",
      "\u001b[1;32m<ipython-input-23-77f9e46ca115>\u001b[0m in \u001b[0;36m<module>\u001b[1;34m\u001b[0m\n\u001b[1;32m----> 1\u001b[1;33m \u001b[0mprint\u001b[0m\u001b[1;33m(\u001b[0m\u001b[0mmodel\u001b[0m\u001b[1;33m.\u001b[0m\u001b[0maccuracy\u001b[0m\u001b[1;33m)\u001b[0m\u001b[1;33m\u001b[0m\u001b[1;33m\u001b[0m\u001b[0m\n\u001b[0m",
      "\u001b[1;31mAttributeError\u001b[0m: 'Sequential' object has no attribute 'accuracy'"
     ]
    }
   ],
   "source": [
    "print(model.accuracy)"
   ]
  }
 ],
 "metadata": {
  "kernelspec": {
   "display_name": "Python 3",
   "language": "python",
   "name": "python3"
  },
  "language_info": {
   "codemirror_mode": {
    "name": "ipython",
    "version": 3
   },
   "file_extension": ".py",
   "mimetype": "text/x-python",
   "name": "python",
   "nbconvert_exporter": "python",
   "pygments_lexer": "ipython3",
   "version": "3.8.8"
  }
 },
 "nbformat": 4,
 "nbformat_minor": 5
}
